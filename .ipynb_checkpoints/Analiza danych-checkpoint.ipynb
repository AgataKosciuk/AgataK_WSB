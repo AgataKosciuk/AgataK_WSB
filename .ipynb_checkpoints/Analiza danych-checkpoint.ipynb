{
 "cells": [
  {
   "cell_type": "markdown",
   "id": "e9774efc",
   "metadata": {},
   "source": [
    "# Analiza i Przetwarzanie Danych"
   ]
  },
  {
   "cell_type": "markdown",
   "id": "cbb8f068",
   "metadata": {},
   "source": [
    "## Analiza danych dotyczących wypadków samochodowych w NY"
   ]
  },
  {
   "cell_type": "code",
   "execution_count": 1,
   "id": "fb420539",
   "metadata": {},
   "outputs": [],
   "source": [
    "import pandas as pd\n",
    "import numpy as np\n",
    "import matplotlib.pyplot as plt\n",
    "import datetime as dt\n",
    "from datetime import datetime"
   ]
  },
  {
   "cell_type": "markdown",
   "id": "60dce4f4",
   "metadata": {},
   "source": [
    "### Wczytanie danych"
   ]
  },
  {
   "cell_type": "code",
   "execution_count": 2,
   "id": "d39ed11e",
   "metadata": {
    "scrolled": true
   },
   "outputs": [],
   "source": [
    "motor_data = pd.read_csv(\"/Users/agata/Desktop/nypd-motor-vehicle-collisions.csv\", low_memory=False, dtype={'third_column': 'str'})\n"
   ]
  },
  {
   "cell_type": "markdown",
   "id": "8ca4e611",
   "metadata": {},
   "source": [
    "#### czyszczenie/przygotowanie danych"
   ]
  },
  {
   "cell_type": "code",
   "execution_count": 3,
   "id": "b7e9f9b4",
   "metadata": {},
   "outputs": [],
   "source": [
    "# usuwamy kolumny zawierające puste dane\n",
    "\n",
    "motor_data.dropna(axis=1,how='all', subset=29, inplace=True)\n"
   ]
  },
  {
   "cell_type": "code",
   "execution_count": 4,
   "id": "6038ba94",
   "metadata": {},
   "outputs": [],
   "source": [
    "# usuwamy wiersze zawierające puste dane\n",
    "\n",
    "motor_data.dropna(axis=0,how='any', inplace=True)\n"
   ]
  },
  {
   "cell_type": "code",
   "execution_count": 5,
   "id": "7e48d50d",
   "metadata": {},
   "outputs": [],
   "source": [
    "# usuwamy duplikaty danych\n",
    "\n",
    "motor_data.drop_duplicates(subset=None, keep=False, inplace=True, ignore_index=True)\n"
   ]
  },
  {
   "cell_type": "code",
   "execution_count": 6,
   "id": "39a4aa8d",
   "metadata": {},
   "outputs": [],
   "source": [
    "# usuwamy kolumny, które nie są nam potrzebne do analizy danych do zadania\n",
    "\n",
    "motor_data = motor_data.drop(motor_data.columns[[1, 3, 4, 5, 6, 7, 8, 18, 19]], axis=1)\n"
   ]
  },
  {
   "cell_type": "markdown",
   "id": "ba2244ac",
   "metadata": {},
   "source": [
    "# 1. Określić najniebezpieczniejsze czynniki wypadków w danej dzielnicy NY\n",
    "Wybrana dzielnica QUEENS"
   ]
  },
  {
   "cell_type": "code",
   "execution_count": 7,
   "id": "6c07cf71",
   "metadata": {
    "scrolled": true
   },
   "outputs": [],
   "source": [
    "# przefiltrowanie danych tylko dla wybranej dzielnicy\n",
    "\n",
    "motor_queens= motor_data[motor_data['BOROUGH'].str.contains('QUEENS', na=False)]"
   ]
  },
  {
   "cell_type": "markdown",
   "id": "8b3e7369",
   "metadata": {},
   "source": [
    "## ODPOWIEDŹ: Wyświetlamy najniebezpieczniejsze przyczyny wypadków w wybranej dzielnicy w kolejności od najczęściej występującej"
   ]
  },
  {
   "cell_type": "code",
   "execution_count": 8,
   "id": "c78aa98a",
   "metadata": {},
   "outputs": [
    {
     "data": {
      "text/plain": [
       "BOROUGH  CONTRIBUTING FACTOR VEHICLE 1 \n",
       "QUEENS   Unspecified                       45971\n",
       "         Driver Inattention/Distraction    24400\n",
       "         Failure to Yield Right-of-Way     11211\n",
       "         Backing Unsafely                   4469\n",
       "         Following Too Closely              4159\n",
       "Name: count, dtype: int64"
      ]
     },
     "execution_count": 8,
     "metadata": {},
     "output_type": "execute_result"
    }
   ],
   "source": [
    "# grupujemy i wyświetlamy przyczyny wypadków\n",
    "\n",
    "groupped = motor_queens.groupby('BOROUGH')['CONTRIBUTING FACTOR VEHICLE 1'].value_counts().nlargest(5)\n",
    "groupped"
   ]
  },
  {
   "cell_type": "markdown",
   "id": "72e2caa3",
   "metadata": {},
   "source": [
    "# 2.A Dowiedzieć się, ile zgonów oraz obrażeń zostało spowodowanych przez szybką jazdę ogólnie"
   ]
  },
  {
   "cell_type": "code",
   "execution_count": 9,
   "id": "cc857ec5",
   "metadata": {
    "scrolled": true
   },
   "outputs": [],
   "source": [
    "# filtrujemy dane, szukając tego co nas interesuje\n",
    "\n",
    "motor_fast = motor_data[motor_data['CONTRIBUTING FACTOR VEHICLE 1'].str.contains('Speed', na=False)].sum()                       "
   ]
  },
  {
   "cell_type": "markdown",
   "id": "703d524f",
   "metadata": {},
   "source": [
    "## ODPOWIEDŹ: Przez szybką jazdę zostało spowodowanych 3471 zgonów i obrażeń"
   ]
  },
  {
   "cell_type": "code",
   "execution_count": 10,
   "id": "e5f7501b",
   "metadata": {},
   "outputs": [
    {
     "data": {
      "text/plain": [
       "3471.0"
      ]
     },
     "metadata": {},
     "output_type": "display_data"
    }
   ],
   "source": [
    "# sumujemy dane z konkretnych kolumn\n",
    "\n",
    "motor_fast['Total'] = motor_fast['NUMBER OF PERSONS INJURED'] + motor_fast['NUMBER OF PEDESTRIANS INJURED'] + motor_fast['NUMBER OF CYCLIST INJURED'] + motor_fast['NUMBER OF MOTORIST INJURED'] + motor_fast['NUMBER OF PERSONS KILLED'] + motor_fast['NUMBER OF PEDESTRIANS KILLED'] + motor_fast['NUMBER OF CYCLIST KILLED'] + motor_fast['NUMBER OF MOTORIST KILLED']\n",
    "display(motor_fast['Total'])"
   ]
  },
  {
   "cell_type": "markdown",
   "id": "d015ec90",
   "metadata": {},
   "source": [
    "# 2.B Dowiedzieć się, ile zgonów oraz obrażeń zostało spowodowanych przez szybką jazdę w wybranej dzielnicy Queens"
   ]
  },
  {
   "cell_type": "code",
   "execution_count": null,
   "id": "d0d8e7a4",
   "metadata": {},
   "outputs": [],
   "source": [
    "# filtrujemy dane przez interesujące nas wartości\n",
    "\n",
    "motor_fast_queens = motor_data[motor_data['BOROUGH'].str.contains('QUEENS', na=False)].sum()"
   ]
  },
  {
   "cell_type": "code",
   "execution_count": 12,
   "id": "e60c674a",
   "metadata": {},
   "outputs": [],
   "source": [
    "motor_fast_queens = motor_data[(motor_data['CONTRIBUTING FACTOR VEHICLE 1'].str.contains('Unsafe Speed', na=True, regex=False, case=False)) & (motor_data['BOROUGH'].str.contains('QUEENS', na=True, regex=False, case=False))].sum()"
   ]
  },
  {
   "cell_type": "markdown",
   "id": "c787e600",
   "metadata": {},
   "source": [
    "## ODPOWIEDŹ: Przez szybką jazdę w dzielnicy Queens zostało spowodowanych 1035 zgonów i obrażeń"
   ]
  },
  {
   "cell_type": "code",
   "execution_count": 13,
   "id": "00456afb",
   "metadata": {},
   "outputs": [
    {
     "data": {
      "text/plain": [
       "1035.0"
      ]
     },
     "metadata": {},
     "output_type": "display_data"
    }
   ],
   "source": [
    "# sumujemy konkretne kolumny w celu otrzymania wyniku\n",
    "\n",
    "motor_fast_queens['Total'] = motor_fast_queens['NUMBER OF PERSONS INJURED'] + motor_fast_queens['NUMBER OF PEDESTRIANS INJURED'] + motor_fast_queens['NUMBER OF CYCLIST INJURED'] + motor_fast_queens['NUMBER OF MOTORIST INJURED'] + motor_fast_queens['NUMBER OF PERSONS KILLED'] + motor_fast_queens['NUMBER OF PEDESTRIANS KILLED'] + motor_fast_queens['NUMBER OF CYCLIST KILLED'] + motor_fast_queens['NUMBER OF MOTORIST KILLED']\n",
    "display(motor_fast_queens['Total'])"
   ]
  },
  {
   "cell_type": "markdown",
   "id": "fd667d9e",
   "metadata": {},
   "source": [
    "# 3. Określić top 5 najniebezpieczniejszych czynników wypadków"
   ]
  },
  {
   "cell_type": "markdown",
   "id": "afbadd9f",
   "metadata": {},
   "source": [
    "## ODPOWIEDŹ: TOP 5 najniebezpieczniejszych czynników danych wg ilości ich występowania"
   ]
  },
  {
   "cell_type": "code",
   "execution_count": 14,
   "id": "06e437f5",
   "metadata": {},
   "outputs": [
    {
     "data": {
      "text/plain": [
       "CONTRIBUTING FACTOR VEHICLE 1\n",
       "Unspecified                       181087\n",
       "Driver Inattention/Distraction     76912\n",
       "Failure to Yield Right-of-Way      30363\n",
       "Other Vehicular                    14838\n",
       "Backing Unsafely                   14611\n",
       "Name: count, dtype: int64"
      ]
     },
     "execution_count": 14,
     "metadata": {},
     "output_type": "execute_result"
    }
   ],
   "source": [
    "# wyszukujemy i zliczamy interesujące nas dane\n",
    "\n",
    "groupped = motor_data.value_counts('CONTRIBUTING FACTOR VEHICLE 1').nlargest(5)\n",
    "groupped"
   ]
  },
  {
   "cell_type": "markdown",
   "id": "3e11ed4a",
   "metadata": {},
   "source": [
    "# 4. Wygenerować wizualizację określającą ilość wypadków z podziałem na dni tygodnia"
   ]
  },
  {
   "cell_type": "code",
   "execution_count": 15,
   "id": "130a5893",
   "metadata": {},
   "outputs": [
    {
     "data": {
      "text/plain": [
       "0         2019-11-26T00:00:00.000\n",
       "1         2019-07-09T00:00:00.000\n",
       "2         2019-06-15T00:00:00.000\n",
       "3         2019-06-12T00:00:00.000\n",
       "4         2019-06-15T00:00:00.000\n",
       "                   ...           \n",
       "441756    2012-07-01T00:00:00.000\n",
       "441757    2012-07-20T00:00:00.000\n",
       "441758    2012-07-17T00:00:00.000\n",
       "441759    2012-07-19T00:00:00.000\n",
       "441760    2012-07-11T00:00:00.000\n",
       "Name: ACCIDENT DATE, Length: 441761, dtype: object"
      ]
     },
     "execution_count": 15,
     "metadata": {},
     "output_type": "execute_result"
    }
   ],
   "source": []
  },
  {
   "cell_type": "code",
   "execution_count": null,
   "id": "24182993",
   "metadata": {},
   "outputs": [],
   "source": [
    "# wybieramy interesującą nas kolumnę z danymi\n",
    "\n",
    "motor_data['ACCIDENT DATE']\n",
    "\n",
    "#konwertujemy argumenty na datatime\n",
    "\n",
    "motor_data['ACCIDENT DATE'] = pd.to_datetime(motor_data['ACCIDENT DATE'])\n",
    "\n",
    "# zmieniamy format daty dd/mm/rr\n",
    "\n",
    "motor_data['formatted_date'] = motor_data['ACCIDENT DATE'].dt.strftime('%d/%m/%Y %H:%M:%S')\n",
    "\n",
    "# przypisujemy do daty dni tygodnia\n",
    "\n",
    "motor_data['DAY OF WEEK'] = motor_data['ACCIDENT DATE'].dt.day_name()\n",
    "\n",
    "# zliczamy dni tygodnia\n",
    "\n",
    "day_counts = motor_data['DAY OF WEEK'].value_counts()\n",
    "display(day_counts)"
   ]
  },
  {
   "cell_type": "markdown",
   "id": "3eef5225",
   "metadata": {},
   "source": [
    "## odpowiedź: wykres"
   ]
  },
  {
   "cell_type": "code",
   "execution_count": null,
   "id": "9fc16076",
   "metadata": {},
   "outputs": [],
   "source": [
    "# generujemy wizualizację\n",
    "\n",
    "day_counts.plot(kind='bar')\n",
    "plt.title('Number of accidents by day of the week')\n",
    "plt.xlabel('Day of week')\n",
    "plt.ylabel('Number of accidents')\n",
    "\n",
    "plt.show()"
   ]
  },
  {
   "cell_type": "code",
   "execution_count": null,
   "id": "f1c60872",
   "metadata": {},
   "outputs": [],
   "source": []
  }
 ],
 "metadata": {
  "kernelspec": {
   "display_name": "Python 3 (ipykernel)",
   "language": "python",
   "name": "python3"
  },
  "language_info": {
   "codemirror_mode": {
    "name": "ipython",
    "version": 3
   },
   "file_extension": ".py",
   "mimetype": "text/x-python",
   "name": "python",
   "nbconvert_exporter": "python",
   "pygments_lexer": "ipython3",
   "version": "3.9.16"
  }
 },
 "nbformat": 4,
 "nbformat_minor": 5
}
